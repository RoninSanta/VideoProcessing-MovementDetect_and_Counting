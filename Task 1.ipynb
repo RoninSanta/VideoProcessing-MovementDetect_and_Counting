{
 "cells": [
  {
   "cell_type": "markdown",
   "metadata": {},
   "source": [
    "## Task 1 (Detection of cars on main street)"
   ]
  },
  {
   "cell_type": "code",
   "execution_count": 1,
   "metadata": {},
   "outputs": [
    {
     "name": "stdout",
     "output_type": "stream",
     "text": [
      "Note: you may need to restart the kernel to use updated packages.\n"
     ]
    },
    {
     "name": "stderr",
     "output_type": "stream",
     "text": [
      "WARNING: Ignoring invalid distribution -pencv-python-headless (c:\\users\\shenf\\anaconda3\\lib\\site-packages)\n",
      "WARNING: Skipping opencv-python-headless as it is not installed.\n"
     ]
    }
   ],
   "source": [
    "pip uninstall opencv-python-headless -y "
   ]
  },
  {
   "cell_type": "code",
   "execution_count": 2,
   "metadata": {},
   "outputs": [
    {
     "name": "stdout",
     "output_type": "stream",
     "text": [
      "Requirement already satisfied: opencv-python in c:\\users\\shenf\\anaconda3\\lib\\site-packages (4.8.1.78)\n",
      "Requirement already satisfied: numpy>=1.17.0 in c:\\users\\shenf\\anaconda3\\lib\\site-packages (from opencv-python) (1.23.0)\n",
      "Note: you may need to restart the kernel to use updated packages.\n"
     ]
    },
    {
     "name": "stderr",
     "output_type": "stream",
     "text": [
      "WARNING: Ignoring invalid distribution -pencv-python-headless (c:\\users\\shenf\\anaconda3\\lib\\site-packages)\n",
      "WARNING: Ignoring invalid distribution -pencv-python-headless (c:\\users\\shenf\\anaconda3\\lib\\site-packages)\n"
     ]
    }
   ],
   "source": [
    "pip install opencv-python --upgrade"
   ]
  },
  {
   "cell_type": "code",
   "execution_count": 3,
   "metadata": {},
   "outputs": [
    {
     "name": "stdout",
     "output_type": "stream",
     "text": [
      "Requirement already satisfied: pyttsx3 in c:\\users\\shenf\\anaconda3\\lib\\site-packages (2.90)\n",
      "Requirement already satisfied: comtypes in c:\\users\\shenf\\anaconda3\\lib\\site-packages (from pyttsx3) (1.1.10)\n",
      "Requirement already satisfied: pypiwin32 in c:\\users\\shenf\\anaconda3\\lib\\site-packages (from pyttsx3) (223)\n",
      "Requirement already satisfied: pywin32 in c:\\users\\shenf\\anaconda3\\lib\\site-packages (from pyttsx3) (305.1)\n",
      "Note: you may need to restart the kernel to use updated packages.\n"
     ]
    },
    {
     "name": "stderr",
     "output_type": "stream",
     "text": [
      "WARNING: Ignoring invalid distribution -pencv-python-headless (c:\\users\\shenf\\anaconda3\\lib\\site-packages)\n",
      "WARNING: Ignoring invalid distribution -pencv-python-headless (c:\\users\\shenf\\anaconda3\\lib\\site-packages)\n"
     ]
    },
    {
     "name": "stdout",
     "output_type": "stream",
     "text": [
      "Requirement already satisfied: numpy in c:\\users\\shenf\\anaconda3\\lib\\site-packages (1.23.0)\n",
      "Note: you may need to restart the kernel to use updated packages.\n"
     ]
    },
    {
     "name": "stderr",
     "output_type": "stream",
     "text": [
      "WARNING: Ignoring invalid distribution -pencv-python-headless (c:\\users\\shenf\\anaconda3\\lib\\site-packages)\n",
      "WARNING: Ignoring invalid distribution -pencv-python-headless (c:\\users\\shenf\\anaconda3\\lib\\site-packages)\n"
     ]
    },
    {
     "name": "stdout",
     "output_type": "stream",
     "text": [
      "Requirement already satisfied: opencv-python in c:\\users\\shenf\\anaconda3\\lib\\site-packages (4.8.1.78)\n",
      "Requirement already satisfied: numpy>=1.17.0 in c:\\users\\shenf\\anaconda3\\lib\\site-packages (from opencv-python) (1.23.0)\n",
      "Note: you may need to restart the kernel to use updated packages.\n"
     ]
    },
    {
     "name": "stderr",
     "output_type": "stream",
     "text": [
      "WARNING: Ignoring invalid distribution -pencv-python-headless (c:\\users\\shenf\\anaconda3\\lib\\site-packages)\n",
      "WARNING: Ignoring invalid distribution -pencv-python-headless (c:\\users\\shenf\\anaconda3\\lib\\site-packages)\n"
     ]
    },
    {
     "name": "stdout",
     "output_type": "stream",
     "text": [
      "Requirement already satisfied: pypiwin32 in c:\\users\\shenf\\anaconda3\\lib\\site-packages (223)\n",
      "Requirement already satisfied: pywin32>=223 in c:\\users\\shenf\\anaconda3\\lib\\site-packages (from pypiwin32) (305.1)\n",
      "Note: you may need to restart the kernel to use updated packages.\n"
     ]
    },
    {
     "name": "stderr",
     "output_type": "stream",
     "text": [
      "WARNING: Ignoring invalid distribution -pencv-python-headless (c:\\users\\shenf\\anaconda3\\lib\\site-packages)\n",
      "WARNING: Ignoring invalid distribution -pencv-python-headless (c:\\users\\shenf\\anaconda3\\lib\\site-packages)\n"
     ]
    }
   ],
   "source": [
    "# Installation of Required Libraries \n",
    "%pip install pyttsx3\n",
    "%pip install numpy\n",
    "%pip install opencv-python\n",
    "%pip install pypiwin32"
   ]
  },
  {
   "cell_type": "markdown",
   "metadata": {},
   "source": [
    "\n",
    "### Detect cars on the 'Main Street'."
   ]
  },
  {
   "cell_type": "code",
   "execution_count": 4,
   "metadata": {},
   "outputs": [],
   "source": [
    "import cv2\n",
    "\n",
    "# Create VideoCapture object & reading frames from input file\n",
    "# Ensuring path to video is correct \n",
    "video = cv2.VideoCapture('Ex1_files/Traffic_Laramie_1.mp4')\n",
    "\n",
    "# Check if opening video is successful\n",
    "if not video.isOpened(): \n",
    "    print(\"Error opening file!\")\n",
    "\n",
    "# Get video properties\n",
    "fps = video.get(cv2.CAP_PROP_FPS)\n",
    "frame_width = int(video.get(cv2.CAP_PROP_FRAME_WIDTH))\n",
    "frame_height = int(video.get(cv2.CAP_PROP_FRAME_HEIGHT))\n",
    "\n",
    "# Define video writer object\n",
    "fourcc = cv2.VideoWriter_fourcc(*\"mp4v\")  # Choose the codec (mp4v or avc1)\n",
    "output_video = cv2.VideoWriter(\"Detected.mp4\", fourcc, fps, (frame_width, frame_height))\n",
    "\n",
    "# Initialise initial frame to 'None'\n",
    "initial_frame = None\n",
    "\n",
    "# Looping through function to continue reading frames\n",
    "while True:\n",
    "    check, frame = video.read()\n",
    "    if check:\n",
    "        # Smoothening (Noise Reduction & Grey conversion)\n",
    "        gray_frame = cv2.cvtColor(frame, cv2.COLOR_BGR2GRAY)\n",
    "        blur_frame = cv2.GaussianBlur(gray_frame, (25, 25), 0)\n",
    "\n",
    "        # 1st image = baseline image\n",
    "        if initial_frame is None:\n",
    "            initial_frame = blur_frame\n",
    "            continue\n",
    "\n",
    "        # Finding difference between baseline & frame images\n",
    "        delta_frame = cv2.absdiff(initial_frame, blur_frame)\n",
    "\n",
    "        # The difference between the initial frame and the current frame (the delta_frame) is transformed into a binary image.\n",
    "        # When the pixel value is greater than 18,\n",
    "        # The pixel will be rendered the colour white, otherwise, it is rendered the colour black \n",
    "        # threshold_frame = cv2.threshold(delta_frame, 18, 255, cv2.THRESH_BINARY)[1]\n",
    "\n",
    "        # The kernel to apply to the morphology\n",
    "        kernel = cv2.getStructuringElement(cv2.MORPH_ELLIPSE, (5, 5))\n",
    "        closing = cv2.morphologyEx(delta_frame, cv2.MORPH_CLOSE, kernel)\n",
    "        opening = cv2.morphologyEx(closing, cv2.MORPH_OPEN, kernel)\n",
    "        dilation = cv2.dilate(opening, kernel)\n",
    "        retvalbin = cv2.threshold(dilation, 12, 255, cv2.THRESH_BINARY)[1]\n",
    "\n",
    "        # cv2.findContours() method allows us to identify the contours in the image\n",
    "        (contours, _) = cv2.findContours(retvalbin, cv2.RETR_EXTERNAL, cv2.CHAIN_APPROX_SIMPLE)\n",
    "\n",
    "        # Gets height of picture frame\n",
    "        height = 0\n",
    "        if video.isOpened():\n",
    "            height = video.get(cv2.CAP_PROP_FRAME_HEIGHT)\n",
    "\n",
    "        # This loops over each contour\n",
    "        # Paints them on the original image\n",
    "        for c in contours:\n",
    "            # contourArea() will filter out the small contours\n",
    "            if cv2.contourArea(c) < 2500:\n",
    "                continue\n",
    "            (x, y, w, h) = cv2.boundingRect(c)\n",
    "            # If a car on the main street is near the bottom half of the video frame, paint the contour over it\n",
    "            if y > height / 2:\n",
    "                cv2.rectangle(frame, (x, y), (x + w, y + h), (0, 255, 0), 1)\n",
    "\n",
    "        # Save the processed frame to the output video file\n",
    "        output_video.write(frame)\n",
    "\n",
    "        # Display the frame\n",
    "        cv2.imshow('Video', frame)\n",
    "\n",
    "        # Terminates when 'C' key is pressed\n",
    "        if cv2.waitKey(1) & 0xFF == ord(\"c\"):\n",
    "            break\n",
    "\n",
    "    else:\n",
    "        break\n",
    "\n",
    "# Releasing video objects after the loop is exited\n",
    "video.release()\n",
    "output_video.release()\n",
    "\n",
    "# Closing all windows\n",
    "cv2.destroyAllWindows()\n"
   ]
  }
 ],
 "metadata": {
  "kernelspec": {
   "display_name": "Python 3 (ipykernel)",
   "language": "python",
   "name": "python3"
  },
  "language_info": {
   "codemirror_mode": {
    "name": "ipython",
    "version": 3
   },
   "file_extension": ".py",
   "mimetype": "text/x-python",
   "name": "python",
   "nbconvert_exporter": "python",
   "pygments_lexer": "ipython3",
   "version": "3.9.13"
  }
 },
 "nbformat": 4,
 "nbformat_minor": 4
}
