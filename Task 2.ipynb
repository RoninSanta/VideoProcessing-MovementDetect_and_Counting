{
 "cells": [
  {
   "cell_type": "markdown",
   "metadata": {},
   "source": [
    "## Task 2 (Detection & Counting of cars on main street)"
   ]
  },
  {
   "cell_type": "code",
   "execution_count": 1,
   "metadata": {},
   "outputs": [
    {
     "name": "stdout",
     "output_type": "stream",
     "text": [
      "Requirement already satisfied: pyttsx3 in c:\\users\\shenf\\anaconda3\\lib\\site-packages (2.90)\n",
      "Requirement already satisfied: comtypes in c:\\users\\shenf\\anaconda3\\lib\\site-packages (from pyttsx3) (1.1.10)\n",
      "Requirement already satisfied: pypiwin32 in c:\\users\\shenf\\anaconda3\\lib\\site-packages (from pyttsx3) (223)\n",
      "Requirement already satisfied: pywin32 in c:\\users\\shenf\\anaconda3\\lib\\site-packages (from pyttsx3) (305.1)\n"
     ]
    },
    {
     "name": "stderr",
     "output_type": "stream",
     "text": [
      "WARNING: Ignoring invalid distribution -pencv-python-headless (c:\\users\\shenf\\anaconda3\\lib\\site-packages)\n",
      "WARNING: Ignoring invalid distribution -pencv-python-headless (c:\\users\\shenf\\anaconda3\\lib\\site-packages)\n"
     ]
    },
    {
     "name": "stdout",
     "output_type": "stream",
     "text": [
      "Requirement already satisfied: numpy in c:\\users\\shenf\\anaconda3\\lib\\site-packages (1.23.0)\n"
     ]
    },
    {
     "name": "stderr",
     "output_type": "stream",
     "text": [
      "WARNING: Ignoring invalid distribution -pencv-python-headless (c:\\users\\shenf\\anaconda3\\lib\\site-packages)\n",
      "WARNING: Ignoring invalid distribution -pencv-python-headless (c:\\users\\shenf\\anaconda3\\lib\\site-packages)\n"
     ]
    },
    {
     "name": "stdout",
     "output_type": "stream",
     "text": [
      "Requirement already satisfied: opencv-python in c:\\users\\shenf\\anaconda3\\lib\\site-packages (4.8.1.78)\n",
      "Requirement already satisfied: numpy>=1.17.0 in c:\\users\\shenf\\anaconda3\\lib\\site-packages (from opencv-python) (1.23.0)\n"
     ]
    },
    {
     "name": "stderr",
     "output_type": "stream",
     "text": [
      "WARNING: Ignoring invalid distribution -pencv-python-headless (c:\\users\\shenf\\anaconda3\\lib\\site-packages)\n",
      "WARNING: Ignoring invalid distribution -pencv-python-headless (c:\\users\\shenf\\anaconda3\\lib\\site-packages)\n"
     ]
    },
    {
     "name": "stdout",
     "output_type": "stream",
     "text": [
      "Requirement already satisfied: pypiwin32 in c:\\users\\shenf\\anaconda3\\lib\\site-packages (223)\n",
      "Requirement already satisfied: pywin32>=223 in c:\\users\\shenf\\anaconda3\\lib\\site-packages (from pypiwin32) (305.1)\n"
     ]
    },
    {
     "name": "stderr",
     "output_type": "stream",
     "text": [
      "WARNING: Ignoring invalid distribution -pencv-python-headless (c:\\users\\shenf\\anaconda3\\lib\\site-packages)\n",
      "WARNING: Ignoring invalid distribution -pencv-python-headless (c:\\users\\shenf\\anaconda3\\lib\\site-packages)\n"
     ]
    }
   ],
   "source": [
    "# Necessary installs\n",
    "!pip install pyttsx3\n",
    "!pip install numpy\n",
    "!pip install opencv-python\n",
    "!pip install pypiwin32\n"
   ]
  },
  {
   "cell_type": "markdown",
   "metadata": {},
   "source": [
    "\n",
    " ### Counting cars moving towards city centre"
   ]
  },
  {
   "cell_type": "code",
   "execution_count": 2,
   "metadata": {},
   "outputs": [
    {
     "name": "stdout",
     "output_type": "stream",
     "text": [
      "Cars: 4\n",
      "Cars per minute: 2.29\n"
     ]
    },
    {
     "data": {
      "text/plain": [
       "-1"
      ]
     },
     "execution_count": 2,
     "metadata": {},
     "output_type": "execute_result"
    }
   ],
   "source": [
    "import cv2\n",
    "\n",
    "# Point of collision will be represented by 'Box' class\n",
    "class Box:\n",
    "    def __init__(self, start_point, width_height):\n",
    "        self.start_point = start_point\n",
    "        self.end_point = (start_point[0] + width_height[0], start_point[1] + width_height[1])\n",
    "        self.counter = 0\n",
    "        self.frame_countdown = 0\n",
    "\n",
    "    def overlap(self, start_point, end_point):\n",
    "        if self.start_point[0] >= end_point[0] or self.end_point[0] <= start_point[0] or \\\n",
    "                self.start_point[1] >= end_point[1] or self.end_point[1] <= start_point[1]:\n",
    "            return False\n",
    "        else:\n",
    "            return True\n",
    "\n",
    "# Create VideoCapture object & reading frames from input file\n",
    "# Ensuring path to video is correct \n",
    "video=cv2.VideoCapture('Ex1_Files/Traffic_Laramie_2.mp4')\n",
    "\n",
    "# Getting frames, fps and duration of video\n",
    "frames = video.get(cv2.CAP_PROP_FRAME_COUNT)\n",
    "fps = int(video.get(cv2.CAP_PROP_FPS))\n",
    "seconds = int(frames / fps)\n",
    "minutes = seconds / 60\n",
    "\n",
    "# Check if opening video is successful\n",
    "if (video.isOpened()== False): \n",
    "  print(\"Error opening file!\")\n",
    "\n",
    "# Initialise initial frame to 'None'\n",
    "initial_frame = None\n",
    "\n",
    "# Building text string to count No. of cars\n",
    "text = \"\"\n",
    "\n",
    "# Initialise the value of cars to 0\n",
    "cars = 0\n",
    "\n",
    "# Creating box object using to count the cars\n",
    "boxes = []\n",
    "boxes.append(Box((500, 350), (10, 120)))\n",
    "\n",
    "# Looping through function to continue reading frames until 'C' key is pressed\n",
    "while True:\n",
    "    check, frame = video.read()\n",
    "    if check == True:\n",
    "        # Smoothening (Noise Reduction)\n",
    "        gray_frame=cv2.cvtColor(frame,cv2.COLOR_BGR2GRAY)\n",
    "        blur_frame=cv2.GaussianBlur(gray_frame,(25,25),0)\n",
    "\n",
    "        # 1st image = baseline image\n",
    "        if initial_frame is None:\n",
    "            initial_frame = blur_frame\n",
    "            continue\n",
    "\n",
    "        # Finding difference between baseline & frame images\n",
    "        delta_frame=cv2.absdiff(initial_frame,blur_frame)\n",
    "\n",
    "        # The difference between the initial frame and the current frame (the delta_frame) is transformed into a binary image.\n",
    "        # When the pixel value is greater than 18,\n",
    "        # The pixel will be rendered the colour white, otherwise, it is rendered the colour black \n",
    "        # threshold_frame=cv2.threshold(delta_frame,18,255, cv2.THRESH_BINARY)[1]\n",
    "        threshold_frame=cv2.threshold(delta_frame,18,255, cv2.THRESH_BINARY)[1]\n",
    "\n",
    "        # The kernel to applies to the morphology\n",
    "        kernel = cv2.getStructuringElement(cv2.MORPH_ELLIPSE, (5, 5)) \n",
    "        closing = cv2.morphologyEx(delta_frame, cv2.MORPH_CLOSE, kernel)\n",
    "        opening = cv2.morphologyEx(closing, cv2.MORPH_OPEN, kernel)\n",
    "        dilation = cv2.dilate(opening, kernel)\n",
    "        retvalbin = cv2.threshold(dilation, 12, 255, cv2.THRESH_BINARY)[1]  \n",
    "\n",
    "        # cv2.findContours() method allows us to identify the contours in the image\n",
    "        (contours,_)=cv2.findContours(retvalbin,cv2.RETR_EXTERNAL,cv2.CHAIN_APPROX_SIMPLE)\n",
    "        \n",
    "        # Gets height of picture frame \n",
    "        height = 0\n",
    "        if video.isOpened():\n",
    "            height = video.get(cv2.CAP_PROP_FRAME_HEIGHT)\n",
    "\n",
    "        # This loops over each contour \n",
    "        # Paints them on original image\n",
    "        for c in contours:\n",
    "            # contourArea() will filters out the small contours\n",
    "            if cv2.contourArea(c) < 2500:\n",
    "                continue\n",
    "            M = cv2.moments(c)\n",
    "            cX = int(M[\"m10\"] / M[\"m00\"])\n",
    "            cY = int(M[\"m01\"] / M[\"m00\"])\n",
    "            (x, y, w, h)=cv2.boundingRect(c)\n",
    "            # If a car on main street is near the bottom half of the video frame, paint the contour over it\n",
    "            if y > height / 2:\n",
    "                cv2.rectangle(frame, (x, y), (x+w, y+h), (0,255,0), 1)\n",
    "                cv2.circle(frame, (cX, cY), 7, (255, 255, 255), -1)\n",
    "\n",
    "\n",
    "            # Constructing of texts strings\n",
    "                cars = 0\n",
    "                # Going through each box\n",
    "                for box in boxes:\n",
    "                    box.frame_countdown -= 1\n",
    "                    if box.overlap((cX, cY), (x + w, y + h)):\n",
    "                        if box.frame_countdown <= 0:\n",
    "                            box.counter += 1\n",
    "                        box.frame_countdown = 20\n",
    "                    cars += box.counter\n",
    "\n",
    "        text = \"Cars: \" + str(cars)\n",
    "        # Setting up text strings being built\n",
    "        cv2.putText(frame, text, (10, 20), cv2.FONT_HERSHEY_PLAIN, 2, (0, 255, 0), 2)\n",
    "\n",
    "        for box in boxes:\n",
    "            cv2.rectangle(frame, box.start_point, box.end_point, (255, 255, 255), 2)\n",
    "\n",
    "        # We can use the different frames generated here.\n",
    "        cv2.imshow('Video', frame)\n",
    "        \n",
    "        # cv2.imshow('Baseline image', initial_frame)\n",
    "        # cv2.imshow('Gray Frame',gray_frame)\n",
    "        # cv2.imshow('Delta frame', delta_frame)\n",
    "        # cv2.imshow('dilation', dilation)\n",
    "    \n",
    "        if cv2.waitKey(1) & 0xFF == ord(\"c\"):\n",
    "            break\n",
    "    \n",
    "    else:\n",
    "        # Outputs total number of cars\n",
    "        print(\"Cars: \" + str(cars))\n",
    "        # Outputs cars per minute\n",
    "        print(\"Cars per minute: \" + str(round(cars/minutes, 2)))\n",
    "        break\n",
    "\n",
    "# Releasing video object after the loop is exited\n",
    "video.release()\n",
    "\n",
    "# Closing all windows\n",
    "cv2.destroyAllWindows()\n",
    "cv2.waitKey(1)\n",
    "cv2.waitKey(1)\n",
    "cv2.waitKey(1)\n",
    "cv2.waitKey(1)"
   ]
  },
  {
   "cell_type": "code",
   "execution_count": null,
   "metadata": {},
   "outputs": [],
   "source": []
  }
 ],
 "metadata": {
  "kernelspec": {
   "display_name": "Python 3 (ipykernel)",
   "language": "python",
   "name": "python3"
  },
  "language_info": {
   "codemirror_mode": {
    "name": "ipython",
    "version": 3
   },
   "file_extension": ".py",
   "mimetype": "text/x-python",
   "name": "python",
   "nbconvert_exporter": "python",
   "pygments_lexer": "ipython3",
   "version": "3.9.13"
  }
 },
 "nbformat": 4,
 "nbformat_minor": 4
}
